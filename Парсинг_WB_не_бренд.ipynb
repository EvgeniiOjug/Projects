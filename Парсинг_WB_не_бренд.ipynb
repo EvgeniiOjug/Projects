{
  "nbformat": 4,
  "nbformat_minor": 0,
  "metadata": {
    "colab": {
      "name": "Парсинг WB не бренд.ipynb",
      "provenance": [],
      "collapsed_sections": [],
      "authorship_tag": "ABX9TyP6MmoAVLeHbwvd/WJsSPaC",
      "include_colab_link": true
    },
    "kernelspec": {
      "name": "python3",
      "display_name": "Python 3"
    },
    "language_info": {
      "name": "python"
    }
  },
  "cells": [
    {
      "cell_type": "markdown",
      "metadata": {
        "id": "view-in-github",
        "colab_type": "text"
      },
      "source": [
        "<a href=\"https://colab.research.google.com/github/EvgeniiOjug/Projects-WB/blob/main/%D0%9F%D0%B0%D1%80%D1%81%D0%B8%D0%BD%D0%B3_WB_%D0%BD%D0%B5_%D0%B1%D1%80%D0%B5%D0%BD%D0%B4.ipynb\" target=\"_parent\"><img src=\"https://colab.research.google.com/assets/colab-badge.svg\" alt=\"Open In Colab\"/></a>"
      ]
    },
    {
      "cell_type": "code",
      "metadata": {
        "colab": {
          "base_uri": "https://localhost:8080/"
        },
        "id": "niAdE4tlh8B4",
        "outputId": "d6c04e4d-b55e-479a-b120-b5eec8ab3a8e"
      },
      "source": [
        "import requests\n",
        "from bs4 import BeautifulSoup\n",
        "import pandas\n",
        "from pandas import ExcelWriter\n",
        "import openpyxl\n",
        "import lxml\n",
        "\n",
        "# info парсер wildberries\n",
        "# реализовал сбор названия и цены, скидку\n",
        "# сделал пагинацию\n",
        "# сделал поиск по введенному значению\n",
        "# 1.0) сделать поиск по параметру (введенному от пользователя)\n",
        "# 1.2) для этого надо предоставить выбор пользователю (например вывести список брендов и выбрать определенный)\n",
        "# доделать пагинацию (в данный момент значение берется из начального экрана, а там могут отображаться не все страницы)\n",
        "\n",
        "#url = \"https://www.wildberries.ru/catalog/0/search.aspx?search=%D0%B2%D0%B8%D0%B4%D0%B5%D0%BE%D0%BA%D0%B0%D1%80%D1%82%D1%8B\"\n",
        "#url = 'https://www.wildberries.ru/catalog/0/search.aspx?search=%D0%B2%D0%B8%D0%B4%D0%B5%D0%BE%D0%BA%D0%B0%D1%80%D1%82%D0%B0&xsearch=true'\n",
        "#url = 'https://www.wildberries.ru/catalog/0/search.aspx?search=%D0%BD%D0%BE%D1%83%D1%82%D0%B1%D1%83%D0%BA&xsearch=true'\n",
        "#url = 'https://www.wildberries.ru/catalog/0/search.aspx?search=%D0%BD%D0%BE%D1%83%D1%82%D0%B1%D1%83%D0%BA%D0%B8&xparams=subject%253D2290&xshard=electronic&xfilters=xsubject;dlvr;brand;price;kind;color;wbsize;season;consists&xsearch=true&fbrand=5786'\n",
        "headers = {\n",
        "    \"Accept\": \"*/*\",\n",
        "    \"Accept-Language\": \"ru-RU,ru;q=0.8,en-US;q=0.5,en;q=0.3\",\n",
        "    \"User-Agent\": \"Mozilla/5.0 (Windows NT 10.0; Win64; x64; rv:84.0) Gecko/20100101 Firefox/84.0\",\n",
        "}\n",
        "\n",
        "\n",
        "def get_html(url, params=None):\n",
        "    response = requests.get(url, headers=headers, params=params)\n",
        "    html = response.text\n",
        "    return html\n",
        "\n",
        "\n",
        "def get_pages(html):\n",
        "    \"\"\" получаем количество страниц\"\"\"\n",
        "    soup = BeautifulSoup(html, 'lxml')\n",
        "    pagination = soup.find('span', class_='brand-custom-header__count')\n",
        "    if ' ' in pagination:\n",
        "      good_count = soup.find('span', class_='brand-custom-header__count').get_text(strip=True).replace(' ', '').split()[0]\n",
        "    else:\n",
        "      good_count = soup.find('span', class_='brand-custom-header__count').get_text(strip=True).split()[0] \n",
        "    print(good_count)\n",
        "    pages = int(good_count) // 100 + 1\n",
        "    return pages\n",
        "\n",
        "\n",
        "def get_content(html):\n",
        "    soup = BeautifulSoup(html, 'html.parser')\n",
        "    items = soup.find_all('div', class_=\"product-card\")\n",
        "    cards = []\n",
        "    for item in items:\n",
        "        # проверка на наличии скидки, если нет, то поле пустое\n",
        "        discount = item.find('span', class_='product-card__sale active')\n",
        "        if discount:\n",
        "            discount = discount.get_text(strip=True)\n",
        "        else:\n",
        "            discount = ''\n",
        "\n",
        "        cards.append({\n",
        "            'brand': item.find('strong', class_='brand-name').get_text(strip=True).replace('/', ''),\n",
        "            'title': item.find('span', class_='goods-name').get_text().split('/')[0],\n",
        "            'price': int(item.find(class_='lower-price').get_text(strip=True).replace('\\xa0', '').replace('₽', '')),\n",
        "            'discount': discount,\n",
        "            'link': f'https://www.wildberries.ru{item.find(\"a\", class_=\"product-card__main\").get(\"href\")}',\n",
        "        })\n",
        "    return cards\n",
        "\n",
        "\n",
        "def save_exel(data):\n",
        "    # сохраняем полученные данные в эксель с помощью dataframe от pandas\n",
        "    dataframe = pandas.DataFrame(data)\n",
        "    newdataframe = dataframe.rename(columns={'brand': 'Брэнд', 'title': 'Наименование',\n",
        "                                             'price': 'Цена',  'discount': 'Скидка',\n",
        "                                             'link': 'Ссылка'})\n",
        "    writer = ExcelWriter(f'data.xlsx')\n",
        "    newdataframe.to_excel(writer, 'data')\n",
        "    writer.save()\n",
        "    print(f'Данные сохранены в файл \"data.xlsx\"')\n",
        "\n",
        "\n",
        "def parse(url):\n",
        "    global search\n",
        "    search = url\n",
        "    # url ='https://www.wildberries.ru/catalog/sport/vidy-sporta/velosport/velosipedy'\n",
        "    # url = 'https://www.wildberries.ru/brands/xiaomi/all'\n",
        "    print(f'Парсим данные с: \"{search}\"')\n",
        "    #print(url)\n",
        "    # try:\n",
        "    html = get_html(url)\n",
        "    pages = get_pages(html)\n",
        "    print(f'Количество страниц: {pages}')\n",
        "    cards = []\n",
        "    pages = int(input('Введите количество страниц: '))\n",
        "    for page in range(1, pages + 1):\n",
        "        print(f'Парсинг страницы: {page}')\n",
        "        html = get_html(url, params={'sort': 'popular', 'page': page})\n",
        "        cards.extend(get_content(html))\n",
        "    print(f'Всего: {len(cards)} позиций')\n",
        "    save_exel(cards)\n",
        "    # except Exception as ex:\n",
        "    #     print(f'Данные по запросу не найдены')\n",
        "\n",
        "\n",
        "if __name__ == \"__main__\":\n",
        "    parse('https://www.wildberries.ru/brands/-a-and-s-fashion')\n",
        "\n"
      ],
      "execution_count": null,
      "outputs": [
        {
          "output_type": "stream",
          "name": "stdout",
          "text": [
            "Парсим данные с: \"https://www.wildberries.ru/brands/-a-and-s-fashion\"\n",
            "19\n",
            "Количество страниц: 1\n"
          ]
        }
      ]
    }
  ]
}